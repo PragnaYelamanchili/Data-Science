{
 "cells": [
  {
   "cell_type": "code",
   "execution_count": 71,
   "metadata": {},
   "outputs": [],
   "source": [
    "import pandas as pd"
   ]
  },
  {
   "cell_type": "code",
   "execution_count": 72,
   "metadata": {},
   "outputs": [],
   "source": [
    "df = pd.read_csv('cleantweet.csv')"
   ]
  },
  {
   "cell_type": "code",
   "execution_count": 73,
   "metadata": {},
   "outputs": [
    {
     "name": "stdout",
     "output_type": "stream",
     "text": [
      "<class 'pandas.core.frame.DataFrame'>\n",
      "RangeIndex: 1600000 entries, 0 to 1599999\n",
      "Data columns (total 3 columns):\n",
      "Unnamed: 0    1600000 non-null int64\n",
      "sentiment     1600000 non-null int64\n",
      "text          1600000 non-null object\n",
      "dtypes: int64(2), object(1)\n",
      "memory usage: 36.6+ MB\n"
     ]
    },
    {
     "data": {
      "text/html": [
       "<div>\n",
       "<style scoped>\n",
       "    .dataframe tbody tr th:only-of-type {\n",
       "        vertical-align: middle;\n",
       "    }\n",
       "\n",
       "    .dataframe tbody tr th {\n",
       "        vertical-align: top;\n",
       "    }\n",
       "\n",
       "    .dataframe thead th {\n",
       "        text-align: right;\n",
       "    }\n",
       "</style>\n",
       "<table border=\"1\" class=\"dataframe\">\n",
       "  <thead>\n",
       "    <tr style=\"text-align: right;\">\n",
       "      <th></th>\n",
       "      <th>Unnamed: 0</th>\n",
       "      <th>sentiment</th>\n",
       "      <th>text</th>\n",
       "    </tr>\n",
       "  </thead>\n",
       "  <tbody>\n",
       "    <tr>\n",
       "      <th>0</th>\n",
       "      <td>0</td>\n",
       "      <td>0</td>\n",
       "      <td>a thats a bummer  you shoulda got david car...</td>\n",
       "    </tr>\n",
       "    <tr>\n",
       "      <th>1</th>\n",
       "      <td>1</td>\n",
       "      <td>0</td>\n",
       "      <td>is upset that he cant update his facebook by t...</td>\n",
       "    </tr>\n",
       "    <tr>\n",
       "      <th>2</th>\n",
       "      <td>2</td>\n",
       "      <td>0</td>\n",
       "      <td>i dived many times for the ball managed to sa...</td>\n",
       "    </tr>\n",
       "    <tr>\n",
       "      <th>3</th>\n",
       "      <td>3</td>\n",
       "      <td>0</td>\n",
       "      <td>my whole body feels itchy and like its on fire</td>\n",
       "    </tr>\n",
       "    <tr>\n",
       "      <th>4</th>\n",
       "      <td>4</td>\n",
       "      <td>0</td>\n",
       "      <td>no its not behaving at all im mad why am i he...</td>\n",
       "    </tr>\n",
       "  </tbody>\n",
       "</table>\n",
       "</div>"
      ],
      "text/plain": [
       "   Unnamed: 0  sentiment                                               text\n",
       "0           0          0     a thats a bummer  you shoulda got david car...\n",
       "1           1          0  is upset that he cant update his facebook by t...\n",
       "2           2          0   i dived many times for the ball managed to sa...\n",
       "3           3          0    my whole body feels itchy and like its on fire \n",
       "4           4          0   no its not behaving at all im mad why am i he..."
      ]
     },
     "execution_count": 73,
     "metadata": {},
     "output_type": "execute_result"
    }
   ],
   "source": [
    "df.dropna(inplace=True)\n",
    "df.reset_index(drop=True,inplace=True)\n",
    "df.info()\n",
    "df.head()"
   ]
  },
  {
   "cell_type": "code",
   "execution_count": 75,
   "metadata": {},
   "outputs": [],
   "source": [
    "x = df.text\n",
    "y = df.sentiment"
   ]
  },
  {
   "cell_type": "code",
   "execution_count": 76,
   "metadata": {},
   "outputs": [],
   "source": [
    "\n",
    "from sklearn.cross_validation import train_test_split\n",
    "SEED = 2000\n",
    "x_train, x_validation_and_test, y_train, y_validation_and_test = train_test_split(x, y, test_size=.02, random_state=SEED)\n",
    "x_validation, x_test, y_validation, y_test = train_test_split(x_validation_and_test, y_validation_and_test, test_size=.5, random_state=SEED)"
   ]
  },
  {
   "cell_type": "code",
   "execution_count": 77,
   "metadata": {},
   "outputs": [],
   "source": [
    "import numpy as np\n",
    "from sklearn.metrics import accuracy_score\n",
    "from sklearn.feature_extraction.text import CountVectorizer\n",
    "from sklearn.linear_model import LogisticRegression\n",
    "from sklearn.pipeline import Pipeline\n",
    "from time import time"
   ]
  },
  {
   "cell_type": "code",
   "execution_count": 78,
   "metadata": {},
   "outputs": [],
   "source": [
    "def accuracy_summary(pipeline, x_train, y_train, x_test, y_test):\n",
    "    if len(x_test[y_test == 0]) / (len(x_test)*1.) > 0.5:\n",
    "        null_accuracy = len(x_test[y_test == 0]) / (len(x_test)*1.)\n",
    "    else:\n",
    "        null_accuracy = 1. - (len(x_test[y_test == 0]) / (len(x_test)*1.))\n",
    "    t0 = time()\n",
    "    sentiment_fit = pipeline.fit(x_train, y_train)\n",
    "    y_pred = sentiment_fit.predict(x_test)\n",
    "    train_test_time = time() - t0\n",
    "    accuracy = accuracy_score(y_test, y_pred)\n",
    "    print(\"null accuracy: {0:.2f}%\".format(null_accuracy*100))\n",
    "    print(\"accuracy score: {0:.2f}%\".format(accuracy*100))\n",
    "    if accuracy > null_accuracy:\n",
    "        print(\"model is {0:.2f}% more accurate than null accuracy\".format((accuracy-null_accuracy)*100))\n",
    "    elif accuracy == null_accuracy:\n",
    "        print(\"model has the same accuracy with the null accuracy\")\n",
    "    else:\n",
    "        print(\"model is {0:.2f}% less accurate than null accuracy\".format((null_accuracy-accuracy)*100))\n",
    "    print(\"train and test time: {0:.2f}s\".format(train_test_time))\n",
    "    print(\"-\"*80)\n",
    "    return accuracy, train_test_time"
   ]
  },
  {
   "cell_type": "code",
   "execution_count": 81,
   "metadata": {},
   "outputs": [],
   "source": [
    "cvec = CountVectorizer()\n",
    "lr = LogisticRegression()\n",
    "n_features = np.arange(1000,10000,1000)\n",
    "\n",
    "def nfeature_accuracy_checker(vectorizer=cvec, n_features=n_features, stop_words=None, ngram_range=(1, 1), classifier=lr):\n",
    "    result = []\n",
    "    print ((classifier))\n",
    "    print (\"\\n\")\n",
    "    for n in n_features:\n",
    "        vectorizer.set_params(stop_words=stop_words, max_features=n, ngram_range=ngram_range)\n",
    "        checker_pipeline = Pipeline([\n",
    "            ('vectorizer', vectorizer),\n",
    "            ('classifier', classifier)\n",
    "        ])\n",
    "        print(\"Validation result for {} features\".format(n))\n",
    "        nfeature_accuracy,tt_time = accuracy_summary(checker_pipeline, x_train, y_train, x_validation, y_validation)\n",
    "        result.append((n,nfeature_accuracy,tt_time))\n",
    "    return result"
   ]
  },
  {
   "attachments": {
    "image.png": {
     "image/png": "[encoded data removed]"
    }
   },
   "cell_type": "markdown",
   "metadata": {},
   "source": [
    "# TF-IDF Modelling\n",
    "\n",
    "\n",
    "TFIDF is another way to convert textual data to numeric form, and is short for Term Frequency-Inverse Document Frequency. The vector value it yields is the product of these two terms; TF and IDF.\n",
    "Let’s first look at Term Frequency. We have already looked at term frequency with count vectorizer, but this time, we need one more step to calculate the relative frequency. Let’s say we have two documents in our corpus as below.\n",
    "I love dogs\n",
    "I hate dogs and knitting\n",
    "Relative term frequency is calculated for each term within each document as below.\n",
    "\n",
    "![image.png](attachment:image.png)\n",
    "\n",
    "\n",
    "\n",
    "\n",
    "Next, we need to get Inverse Document Frequency, which measures how important a word is to differentiate each document by following the calculation as below.\n",
    "\n",
    "\n",
    "![image.png](attachment:image.png)\n",
    "\n",
    "\n",
    "Once we have the values for TF and IDF, now we can calculate TFIDF as below.\n",
    "\n",
    "\n",
    "Following the case of our example, TFIDF for the term ‘I’ in both documents will be as below.\n",
    "\n",
    "\n",
    "As you can see, the term ‘I’ appeared equally in both documents, and the TFIDF score is 0, which means the term is not really informative in differentiating documents. The rest is same as count vectorizer, TFIDF vectorizer will calculate these scores for terms in documents, and convert textual data into the numeric form.\n",
    "Once I instantiate Tfidf vectorizer, and fit the Tfidf-transformed data to logistic regression, and check the validation accuracy for a different number of features."
   ]
  },
  {
   "cell_type": "code",
   "execution_count": 82,
   "metadata": {},
   "outputs": [],
   "source": [
    "from sklearn.feature_extraction.text import TfidfVectorizer\n",
    "tvec = TfidfVectorizer()"
   ]
  },
  {
   "cell_type": "code",
   "execution_count": 83,
   "metadata": {},
   "outputs": [
    {
     "name": "stdout",
     "output_type": "stream",
     "text": [
      "RESULT FOR UNIGRAM WITH STOP WORDS (Tfidf)\n",
      "\n",
      "LogisticRegression(C=1.0, class_weight=None, dual=False, fit_intercept=True,\n",
      "          intercept_scaling=1, max_iter=100, multi_class='ovr', n_jobs=1,\n",
      "          penalty='l2', random_state=None, solver='liblinear', tol=0.0001,\n",
      "          verbose=0, warm_start=False)\n",
      "\n",
      "\n",
      "Validation result for 1000 features\n",
      "null accuracy: 50.68%\n",
      "accuracy score: 76.46%\n",
      "model is 25.78% more accurate than null accuracy\n",
      "train and test time: 45.42s\n",
      "--------------------------------------------------------------------------------\n",
      "Validation result for 2000 features\n",
      "null accuracy: 50.68%\n",
      "accuracy score: 77.83%\n",
      "model is 27.16% more accurate than null accuracy\n",
      "train and test time: 45.50s\n",
      "--------------------------------------------------------------------------------\n",
      "Validation result for 3000 features\n",
      "null accuracy: 50.68%\n",
      "accuracy score: 78.50%\n",
      "model is 27.82% more accurate than null accuracy\n",
      "train and test time: 50.18s\n",
      "--------------------------------------------------------------------------------\n",
      "Validation result for 4000 features\n",
      "null accuracy: 50.68%\n",
      "accuracy score: 78.81%\n",
      "model is 28.14% more accurate than null accuracy\n",
      "train and test time: 54.39s\n",
      "--------------------------------------------------------------------------------\n",
      "Validation result for 5000 features\n",
      "null accuracy: 50.68%\n",
      "accuracy score: 79.06%\n",
      "model is 28.38% more accurate than null accuracy\n",
      "train and test time: 59.67s\n",
      "--------------------------------------------------------------------------------\n",
      "Validation result for 6000 features\n",
      "null accuracy: 50.68%\n",
      "accuracy score: 79.09%\n",
      "model is 28.41% more accurate than null accuracy\n",
      "train and test time: 72.12s\n",
      "--------------------------------------------------------------------------------\n",
      "Validation result for 7000 features\n",
      "null accuracy: 50.68%\n",
      "accuracy score: 79.21%\n",
      "model is 28.53% more accurate than null accuracy\n",
      "train and test time: 70.07s\n",
      "--------------------------------------------------------------------------------\n",
      "Validation result for 8000 features\n",
      "null accuracy: 50.68%\n",
      "accuracy score: 79.43%\n",
      "model is 28.76% more accurate than null accuracy\n",
      "train and test time: 66.05s\n",
      "--------------------------------------------------------------------------------\n",
      "Validation result for 9000 features\n",
      "null accuracy: 50.68%\n",
      "accuracy score: 79.42%\n",
      "model is 28.74% more accurate than null accuracy\n",
      "train and test time: 67.76s\n",
      "--------------------------------------------------------------------------------\n",
      "Wall time: 8min 51s\n"
     ]
    }
   ],
   "source": [
    "%%time\n",
    "print(\"RESULT FOR UNIGRAM WITH STOP WORDS (Tfidf)\\n\")\n",
    "feature_result_ugt = nfeature_accuracy_checker(vectorizer=tvec)"
   ]
  },
  {
   "cell_type": "code",
   "execution_count": 84,
   "metadata": {},
   "outputs": [
    {
     "name": "stdout",
     "output_type": "stream",
     "text": [
      "RESULT FOR BIGRAM WITH STOP WORDS (Tfidf)\n",
      "\n",
      "LogisticRegression(C=1.0, class_weight=None, dual=False, fit_intercept=True,\n",
      "          intercept_scaling=1, max_iter=100, multi_class='ovr', n_jobs=1,\n",
      "          penalty='l2', random_state=None, solver='liblinear', tol=0.0001,\n",
      "          verbose=0, warm_start=False)\n",
      "\n",
      "\n",
      "Validation result for 1000 features\n",
      "null accuracy: 50.68%\n",
      "accuracy score: 76.23%\n",
      "model is 25.56% more accurate than null accuracy\n",
      "train and test time: 101.87s\n",
      "--------------------------------------------------------------------------------\n",
      "Validation result for 2000 features\n",
      "null accuracy: 50.68%\n",
      "accuracy score: 77.95%\n",
      "model is 27.27% more accurate than null accuracy\n",
      "train and test time: 113.70s\n",
      "--------------------------------------------------------------------------------\n",
      "Validation result for 3000 features\n",
      "null accuracy: 50.68%\n",
      "accuracy score: 78.72%\n",
      "model is 28.05% more accurate than null accuracy\n",
      "train and test time: 112.72s\n",
      "--------------------------------------------------------------------------------\n",
      "Validation result for 4000 features\n",
      "null accuracy: 50.68%\n",
      "accuracy score: 79.29%\n",
      "model is 28.62% more accurate than null accuracy\n",
      "train and test time: 118.62s\n",
      "--------------------------------------------------------------------------------\n",
      "Validation result for 5000 features\n",
      "null accuracy: 50.68%\n",
      "accuracy score: 79.92%\n",
      "model is 29.24% more accurate than null accuracy\n",
      "train and test time: 107.49s\n",
      "--------------------------------------------------------------------------------\n",
      "Validation result for 6000 features\n",
      "null accuracy: 50.68%\n",
      "accuracy score: 80.14%\n",
      "model is 29.46% more accurate than null accuracy\n",
      "train and test time: 120.11s\n",
      "--------------------------------------------------------------------------------\n",
      "Validation result for 7000 features\n",
      "null accuracy: 50.68%\n",
      "accuracy score: 80.42%\n",
      "model is 29.75% more accurate than null accuracy\n",
      "train and test time: 119.18s\n",
      "--------------------------------------------------------------------------------\n",
      "Validation result for 8000 features\n",
      "null accuracy: 50.68%\n",
      "accuracy score: 80.62%\n",
      "model is 29.94% more accurate than null accuracy\n",
      "train and test time: 118.38s\n",
      "--------------------------------------------------------------------------------\n",
      "Validation result for 9000 features\n",
      "null accuracy: 50.68%\n",
      "accuracy score: 80.85%\n",
      "model is 30.17% more accurate than null accuracy\n",
      "train and test time: 119.51s\n",
      "--------------------------------------------------------------------------------\n",
      "Wall time: 17min 11s\n"
     ]
    }
   ],
   "source": [
    "%%time\n",
    "print(\"RESULT FOR BIGRAM WITH STOP WORDS (Tfidf)\\n\")\n",
    "feature_result_bgt = nfeature_accuracy_checker(vectorizer=tvec,ngram_range=(1, 2))"
   ]
  },
  {
   "cell_type": "code",
   "execution_count": 85,
   "metadata": {},
   "outputs": [
    {
     "name": "stdout",
     "output_type": "stream",
     "text": [
      "RESULT FOR TRIGRAM WITH STOP WORDS (Tfidf)\n",
      "\n",
      "LogisticRegression(C=1.0, class_weight=None, dual=False, fit_intercept=True,\n",
      "          intercept_scaling=1, max_iter=100, multi_class='ovr', n_jobs=1,\n",
      "          penalty='l2', random_state=None, solver='liblinear', tol=0.0001,\n",
      "          verbose=0, warm_start=False)\n",
      "\n",
      "\n",
      "Validation result for 1000 features\n",
      "null accuracy: 50.68%\n",
      "accuracy score: 76.13%\n",
      "model is 25.46% more accurate than null accuracy\n",
      "train and test time: 262.88s\n",
      "--------------------------------------------------------------------------------\n",
      "Validation result for 2000 features\n",
      "null accuracy: 50.68%\n",
      "accuracy score: 77.91%\n",
      "model is 27.24% more accurate than null accuracy\n",
      "train and test time: 270.72s\n",
      "--------------------------------------------------------------------------------\n",
      "Validation result for 3000 features\n",
      "null accuracy: 50.68%\n",
      "accuracy score: 78.67%\n",
      "model is 28.00% more accurate than null accuracy\n",
      "train and test time: 280.98s\n",
      "--------------------------------------------------------------------------------\n",
      "Validation result for 4000 features\n",
      "null accuracy: 50.68%\n",
      "accuracy score: 79.24%\n",
      "model is 28.56% more accurate than null accuracy\n",
      "train and test time: 278.87s\n",
      "--------------------------------------------------------------------------------\n",
      "Validation result for 5000 features\n",
      "null accuracy: 50.68%\n",
      "accuracy score: 79.80%\n",
      "model is 29.12% more accurate than null accuracy\n",
      "train and test time: 282.00s\n",
      "--------------------------------------------------------------------------------\n",
      "Validation result for 6000 features\n",
      "null accuracy: 50.68%\n",
      "accuracy score: 79.91%\n",
      "model is 29.24% more accurate than null accuracy\n",
      "train and test time: 310.31s\n",
      "--------------------------------------------------------------------------------\n",
      "Validation result for 7000 features\n",
      "null accuracy: 50.68%\n",
      "accuracy score: 80.29%\n",
      "model is 29.61% more accurate than null accuracy\n",
      "train and test time: 265.25s\n",
      "--------------------------------------------------------------------------------\n",
      "Validation result for 8000 features\n",
      "null accuracy: 50.68%\n",
      "accuracy score: 80.44%\n",
      "model is 29.77% more accurate than null accuracy\n",
      "train and test time: 288.50s\n",
      "--------------------------------------------------------------------------------\n",
      "Validation result for 9000 features\n",
      "null accuracy: 50.68%\n",
      "accuracy score: 80.65%\n",
      "model is 29.97% more accurate than null accuracy\n",
      "train and test time: 275.09s\n",
      "--------------------------------------------------------------------------------\n",
      "Wall time: 41min 56s\n"
     ]
    }
   ],
   "source": [
    "%%time\n",
    "print(\"RESULT FOR TRIGRAM WITH STOP WORDS (Tfidf)\\n\")\n",
    "feature_result_tgt = nfeature_accuracy_checker(vectorizer=tvec,ngram_range=(1, 3))"
   ]
  },
  {
   "cell_type": "code",
   "execution_count": 86,
   "metadata": {},
   "outputs": [],
   "source": [
    "import matplotlib.pyplot as plt"
   ]
  },
  {
   "cell_type": "code",
   "execution_count": 87,
   "metadata": {},
   "outputs": [
    {
     "data": {
      "text/plain": [
       "<matplotlib.legend.Legend at 0x2bd47746278>"
      ]
     },
     "execution_count": 87,
     "metadata": {},
     "output_type": "execute_result"
    },
    {
     "data": {
      "image/png": "[encoded data removed]",
      "text/plain": [
       "<Figure size 576x432 with 1 Axes>"
      ]
     },
     "metadata": {},
     "output_type": "display_data"
    }
   ],
   "source": [
    "nfeatures_plot_tgt = pd.DataFrame(feature_result_tgt,columns=['nfeatures','validation_accuracy','train_test_time'])\n",
    "nfeatures_plot_bgt = pd.DataFrame(feature_result_bgt,columns=['nfeatures','validation_accuracy','train_test_time'])\n",
    "nfeatures_plot_ugt = pd.DataFrame(feature_result_ugt,columns=['nfeatures','validation_accuracy','train_test_time'])\n",
    "\n",
    "plt.figure(figsize=(8,6))\n",
    "plt.plot(nfeatures_plot_tgt.nfeatures, nfeatures_plot_tgt.validation_accuracy,label='trigram tfidf vectorizer',color='royalblue')\n",
    "#plt.plot(nfeatures_plot_tg.nfeatures, nfeatures_plot_tg.validation_accuracy,label='trigram count vectorizer',linestyle=':', color='royalblue')\n",
    "plt.plot(nfeatures_plot_bgt.nfeatures, nfeatures_plot_bgt.validation_accuracy,label='bigram tfidf vectorizer',color='orangered')\n",
    "#plt.plot(nfeatures_plot_bg.nfeatures, nfeatures_plot_bg.validation_accuracy,label='bigram count vectorizer',linestyle=':',color='orangered')\n",
    "plt.plot(nfeatures_plot_ugt.nfeatures, nfeatures_plot_ugt.validation_accuracy, label='unigram tfidf vectorizer',color='gold')\n",
    "#plt.plot(nfeatures_plot_ug.nfeatures, nfeatures_plot_ug.validation_accuracy, label='unigram count vectorizer',linestyle=':',color='gold')\n",
    "plt.title(\"N-gram(1~3) test result : Accuracy\")\n",
    "plt.xlabel(\"Number of features\")\n",
    "plt.ylabel(\"Validation set accuracy\")\n",
    "plt.legend()"
   ]
  },
  {
   "cell_type": "code",
   "execution_count": 88,
   "metadata": {},
   "outputs": [],
   "source": [
    "from sklearn.neighbors import KNeighborsClassifier\n",
    "from sklearn.tree import DecisionTreeClassifier\n",
    "from sklearn.svm import LinearSVC\n",
    "from sklearn.ensemble import RandomForestClassifier, AdaBoostClassifier\n",
    "from sklearn.naive_bayes import MultinomialNB, BernoulliNB\n",
    "from sklearn.linear_model import RidgeClassifier\n",
    "from sklearn.linear_model import PassiveAggressiveClassifier\n",
    "from sklearn.linear_model import Perceptron\n",
    "from sklearn.neighbors import NearestCentroid\n",
    "from sklearn.feature_selection import SelectFromModel\n",
    "\n",
    "names = [\"Logistic Regression\", \"Linear SVC\", \"LinearSVC with L1-based feature selection\",\"Multinomial NB\", \n",
    "         \"Bernoulli NB\", \"Ridge Classifier\", \"AdaBoost\", \"Perceptron\",\"Passive-Aggresive\", \"Nearest Centroid\"]\n",
    "classifiers = [\n",
    "    LogisticRegression(),\n",
    "    LinearSVC(),\n",
    "    Pipeline([\n",
    "  ('feature_selection', SelectFromModel(LinearSVC(penalty=\"l1\", dual=False))),\n",
    "  ('classification', LinearSVC(penalty=\"l2\"))]),\n",
    "    MultinomialNB(),\n",
    "    BernoulliNB(),\n",
    "    RidgeClassifier(),\n",
    "    AdaBoostClassifier(),\n",
    "    Perceptron(),\n",
    "    PassiveAggressiveClassifier(),\n",
    "    NearestCentroid()\n",
    "    ]\n",
    "zipped_clf = zip(names,classifiers)"
   ]
  },
  {
   "cell_type": "code",
   "execution_count": 89,
   "metadata": {},
   "outputs": [],
   "source": [
    "tvec = TfidfVectorizer()\n",
    "def classifier_comparator(vectorizer=tvec, n_features=10000, stop_words=None, ngram_range=(1, 1), classifier=zipped_clf):\n",
    "    result = []\n",
    "    vectorizer.set_params(stop_words=stop_words, max_features=n_features, ngram_range=ngram_range)\n",
    "    for n,c in classifier:\n",
    "        checker_pipeline = Pipeline([\n",
    "            ('vectorizer', vectorizer),\n",
    "            ('classifier', c)\n",
    "        ])\n",
    "        print(\"Validation result for {}\".format(n))\n",
    "        print (c)\n",
    "        clf_accuracy,tt_time = accuracy_summary(checker_pipeline, x_train, y_train, x_validation, y_validation)\n",
    "        result.append((n,clf_accuracy,tt_time))\n",
    "    return result"
   ]
  },
  {
   "cell_type": "code",
   "execution_count": 90,
   "metadata": {},
   "outputs": [
    {
     "name": "stdout",
     "output_type": "stream",
     "text": [
      "Validation result for Logistic Regression\n",
      "LogisticRegression(C=1.0, class_weight=None, dual=False, fit_intercept=True,\n",
      "          intercept_scaling=1, max_iter=100, multi_class='ovr', n_jobs=1,\n",
      "          penalty='l2', random_state=None, solver='liblinear', tol=0.0001,\n",
      "          verbose=0, warm_start=False)\n",
      "null accuracy: 50.68%\n",
      "accuracy score: 82.90%\n",
      "model is 32.22% more accurate than null accuracy\n",
      "train and test time: 230.83s\n",
      "--------------------------------------------------------------------------------\n",
      "Validation result for Linear SVC\n",
      "LinearSVC(C=1.0, class_weight=None, dual=True, fit_intercept=True,\n",
      "     intercept_scaling=1, loss='squared_hinge', max_iter=1000,\n",
      "     multi_class='ovr', penalty='l2', random_state=None, tol=0.0001,\n",
      "     verbose=0)\n",
      "null accuracy: 50.68%\n",
      "accuracy score: 82.58%\n",
      "model is 31.91% more accurate than null accuracy\n",
      "train and test time: 751.82s\n",
      "--------------------------------------------------------------------------------\n",
      "Validation result for LinearSVC with L1-based feature selection\n",
      "Pipeline(memory=None,\n",
      "     steps=[('feature_selection', SelectFromModel(estimator=LinearSVC(C=1.0, class_weight=None, dual=False, fit_intercept=True,\n",
      "     intercept_scaling=1, loss='squared_hinge', max_iter=1000,\n",
      "     multi_class='ovr', penalty='l1', random_state=None, tol=0.0001,\n",
      "     verbose=0),\n",
      "        norm_order=1, prefit...ax_iter=1000,\n",
      "     multi_class='ovr', penalty='l2', random_state=None, tol=0.0001,\n",
      "     verbose=0))])\n",
      "null accuracy: 50.68%\n",
      "accuracy score: 82.62%\n",
      "model is 31.95% more accurate than null accuracy\n",
      "train and test time: 1059.10s\n",
      "--------------------------------------------------------------------------------\n",
      "Validation result for Multinomial NB\n",
      "MultinomialNB(alpha=1.0, class_prior=None, fit_prior=True)\n",
      "null accuracy: 50.68%\n",
      "accuracy score: 80.74%\n",
      "model is 30.06% more accurate than null accuracy\n",
      "train and test time: 349.31s\n",
      "--------------------------------------------------------------------------------\n",
      "Validation result for Bernoulli NB\n",
      "BernoulliNB(alpha=1.0, binarize=0.0, class_prior=None, fit_prior=True)\n",
      "null accuracy: 50.68%\n",
      "accuracy score: 79.40%\n",
      "model is 28.73% more accurate than null accuracy\n",
      "train and test time: 327.88s\n",
      "--------------------------------------------------------------------------------\n",
      "Validation result for Ridge Classifier\n",
      "RidgeClassifier(alpha=1.0, class_weight=None, copy_X=True, fit_intercept=True,\n",
      "        max_iter=None, normalize=False, random_state=None, solver='auto',\n",
      "        tol=0.001)\n",
      "null accuracy: 50.68%\n",
      "accuracy score: 82.23%\n",
      "model is 31.56% more accurate than null accuracy\n",
      "train and test time: 363.99s\n",
      "--------------------------------------------------------------------------------\n",
      "Validation result for AdaBoost\n",
      "AdaBoostClassifier(algorithm='SAMME.R', base_estimator=None,\n",
      "          learning_rate=1.0, n_estimators=50, random_state=None)\n",
      "null accuracy: 50.68%\n",
      "accuracy score: 69.22%\n",
      "model is 18.54% more accurate than null accuracy\n",
      "train and test time: 1351.59s\n",
      "--------------------------------------------------------------------------------\n",
      "Validation result for Perceptron\n",
      "Perceptron(alpha=0.0001, class_weight=None, eta0=1.0, fit_intercept=True,\n",
      "      max_iter=None, n_iter=None, n_jobs=1, penalty=None, random_state=0,\n",
      "      shuffle=True, tol=None, verbose=0, warm_start=False)\n"
     ]
    },
    {
     "name": "stderr",
     "output_type": "stream",
     "text": [
      "C:\\Users\\pragn\\Anaconda3\\lib\\site-packages\\sklearn\\linear_model\\stochastic_gradient.py:128: FutureWarning: max_iter and tol parameters have been added in <class 'sklearn.linear_model.perceptron.Perceptron'> in 0.19. If both are left unset, they default to max_iter=5 and tol=None. If tol is not None, max_iter defaults to max_iter=1000. From 0.21, default max_iter will be 1000, and default tol will be 1e-3.\n",
      "  \"and default tol will be 1e-3.\" % type(self), FutureWarning)\n"
     ]
    },
    {
     "name": "stdout",
     "output_type": "stream",
     "text": [
      "null accuracy: 50.68%\n",
      "accuracy score: 76.53%\n",
      "model is 25.86% more accurate than null accuracy\n",
      "train and test time: 387.81s\n",
      "--------------------------------------------------------------------------------\n",
      "Validation result for Passive-Aggresive\n",
      "PassiveAggressiveClassifier(C=1.0, average=False, class_weight=None,\n",
      "              fit_intercept=True, loss='hinge', max_iter=None, n_iter=None,\n",
      "              n_jobs=1, random_state=None, shuffle=True, tol=None,\n",
      "              verbose=0, warm_start=False)\n"
     ]
    },
    {
     "name": "stderr",
     "output_type": "stream",
     "text": [
      "C:\\Users\\pragn\\Anaconda3\\lib\\site-packages\\sklearn\\linear_model\\stochastic_gradient.py:128: FutureWarning: max_iter and tol parameters have been added in <class 'sklearn.linear_model.passive_aggressive.PassiveAggressiveClassifier'> in 0.19. If both are left unset, they default to max_iter=5 and tol=None. If tol is not None, max_iter defaults to max_iter=1000. From 0.21, default max_iter will be 1000, and default tol will be 1e-3.\n",
      "  \"and default tol will be 1e-3.\" % type(self), FutureWarning)\n"
     ]
    },
    {
     "name": "stdout",
     "output_type": "stream",
     "text": [
      "null accuracy: 50.68%\n",
      "accuracy score: 79.70%\n",
      "model is 29.03% more accurate than null accuracy\n",
      "train and test time: 318.88s\n",
      "--------------------------------------------------------------------------------\n",
      "Validation result for Nearest Centroid\n",
      "NearestCentroid(metric='euclidean', shrink_threshold=None)\n",
      "null accuracy: 50.68%\n",
      "accuracy score: 72.47%\n",
      "model is 21.80% more accurate than null accuracy\n",
      "train and test time: 319.16s\n",
      "--------------------------------------------------------------------------------\n",
      "Wall time: 1h 31min 2s\n"
     ]
    }
   ],
   "source": [
    "%%time\n",
    "trigram_result = classifier_comparator(n_features=100000,ngram_range=(1,3))"
   ]
  },
  {
   "cell_type": "code",
   "execution_count": 91,
   "metadata": {
    "scrolled": true
   },
   "outputs": [
    {
     "name": "stdout",
     "output_type": "stream",
     "text": [
      "Validation result for Logistic Regression\n",
      "LogisticRegression(C=1.0, class_weight=None, dual=False, fit_intercept=True,\n",
      "          intercept_scaling=1, max_iter=100, multi_class='ovr', n_jobs=1,\n",
      "          penalty='l2', random_state=None, solver='liblinear', tol=0.0001,\n",
      "          verbose=0, warm_start=False)\n",
      "null accuracy: 50.68%\n",
      "accuracy score: 82.90%\n",
      "model is 32.22% more accurate than null accuracy\n",
      "train and test time: 331.98s\n",
      "--------------------------------------------------------------------------------\n",
      "Validation result for Linear SVC\n",
      "LinearSVC(C=1.0, class_weight=None, dual=True, fit_intercept=True,\n",
      "     intercept_scaling=1, loss='squared_hinge', max_iter=1000,\n",
      "     multi_class='ovr', penalty='l2', random_state=None, tol=0.0001,\n",
      "     verbose=0)\n",
      "null accuracy: 50.68%\n",
      "accuracy score: 82.27%\n",
      "model is 31.60% more accurate than null accuracy\n",
      "train and test time: 959.44s\n",
      "--------------------------------------------------------------------------------\n",
      "Validation result for Multinomial NB\n",
      "MultinomialNB(alpha=1.0, class_prior=None, fit_prior=True)\n",
      "null accuracy: 50.68%\n",
      "accuracy score: 80.74%\n",
      "model is 30.06% more accurate than null accuracy\n",
      "train and test time: 223.65s\n",
      "--------------------------------------------------------------------------------\n",
      "Validation result for Ridge Classifier\n",
      "RidgeClassifier(alpha=1.0, class_weight=None, copy_X=True, fit_intercept=True,\n",
      "        max_iter=None, normalize=False, random_state=None, solver='auto',\n",
      "        tol=0.001)\n",
      "null accuracy: 50.68%\n",
      "accuracy score: 82.23%\n",
      "model is 31.56% more accurate than null accuracy\n",
      "train and test time: 281.90s\n",
      "--------------------------------------------------------------------------------\n",
      "Validation result for Passive Aggresive Classifier\n",
      "PassiveAggressiveClassifier(C=1.0, average=False, class_weight=None,\n",
      "              fit_intercept=True, loss='hinge', max_iter=None, n_iter=None,\n",
      "              n_jobs=1, random_state=None, shuffle=True, tol=None,\n",
      "              verbose=0, warm_start=False)\n"
     ]
    },
    {
     "name": "stderr",
     "output_type": "stream",
     "text": [
      "C:\\Users\\pragn\\Anaconda3\\lib\\site-packages\\sklearn\\linear_model\\stochastic_gradient.py:128: FutureWarning: max_iter and tol parameters have been added in <class 'sklearn.linear_model.passive_aggressive.PassiveAggressiveClassifier'> in 0.19. If both are left unset, they default to max_iter=5 and tol=None. If tol is not None, max_iter defaults to max_iter=1000. From 0.21, default max_iter will be 1000, and default tol will be 1e-3.\n",
      "  \"and default tol will be 1e-3.\" % type(self), FutureWarning)\n"
     ]
    },
    {
     "name": "stdout",
     "output_type": "stream",
     "text": [
      "null accuracy: 50.68%\n",
      "accuracy score: 79.65%\n",
      "model is 28.97% more accurate than null accuracy\n",
      "train and test time: 219.05s\n",
      "--------------------------------------------------------------------------------\n",
      "Validation result for Ensemble\n",
      "VotingClassifier(estimators=[('lr', LogisticRegression(C=1.0, class_weight=None, dual=False, fit_intercept=True,\n",
      "          intercept_scaling=1, max_iter=100, multi_class='ovr', n_jobs=1,\n",
      "          penalty='l2', random_state=None, solver='liblinear', tol=0.0001,\n",
      "          verbose=0, warm_start=False)), ('svc', Linear...   n_jobs=1, random_state=None, shuffle=True, tol=None,\n",
      "              verbose=0, warm_start=False))],\n",
      "         flatten_transform=None, n_jobs=1, voting='hard', weights=None)\n"
     ]
    },
    {
     "name": "stderr",
     "output_type": "stream",
     "text": [
      "C:\\Users\\pragn\\Anaconda3\\lib\\site-packages\\sklearn\\linear_model\\stochastic_gradient.py:128: FutureWarning: max_iter and tol parameters have been added in <class 'sklearn.linear_model.passive_aggressive.PassiveAggressiveClassifier'> in 0.19. If both are left unset, they default to max_iter=5 and tol=None. If tol is not None, max_iter defaults to max_iter=1000. From 0.21, default max_iter will be 1000, and default tol will be 1e-3.\n",
      "  \"and default tol will be 1e-3.\" % type(self), FutureWarning)\n"
     ]
    },
    {
     "name": "stdout",
     "output_type": "stream",
     "text": [
      "null accuracy: 50.68%\n",
      "accuracy score: 82.55%\n",
      "model is 31.87% more accurate than null accuracy\n",
      "train and test time: 1051.89s\n",
      "--------------------------------------------------------------------------------\n"
     ]
    },
    {
     "name": "stderr",
     "output_type": "stream",
     "text": [
      "C:\\Users\\pragn\\Anaconda3\\lib\\site-packages\\sklearn\\preprocessing\\label.py:151: DeprecationWarning: The truth value of an empty array is ambiguous. Returning False, but in future this will result in an error. Use `array.size > 0` to check that an array is not empty.\n",
      "  if diff:\n"
     ]
    }
   ],
   "source": [
    "from sklearn.ensemble import VotingClassifier\n",
    "\n",
    "clf1 = LogisticRegression()\n",
    "clf2 = LinearSVC()\n",
    "clf3 = MultinomialNB()\n",
    "clf4 = RidgeClassifier()\n",
    "clf5 = PassiveAggressiveClassifier()\n",
    "\n",
    "eclf = VotingClassifier(estimators=[('lr', clf1), ('svc', clf2), ('mnb', clf3), ('rcs', clf4), ('pac', clf5)], voting='hard')\n",
    "\n",
    "for clf, label in zip([clf1, clf2, clf3, clf4, clf5, eclf], ['Logistic Regression', 'Linear SVC', 'Multinomial NB', 'Ridge Classifier', 'Passive Aggresive Classifier', 'Ensemble']):\n",
    "    checker_pipeline = Pipeline([\n",
    "            ('vectorizer', TfidfVectorizer(max_features=10000,ngram_range=(1, 3))),\n",
    "            ('classifier', clf)\n",
    "        ])\n",
    "    print(\"Validation result for {}\".format(label))\n",
    "    print (clf)\n",
    "    clf_accuracy,tt_time = accuracy_summary(checker_pipeline, x_train, y_train, x_validation, y_validation)"
   ]
  },
  {
   "cell_type": "code",
   "execution_count": 114,
   "metadata": {},
   "outputs": [],
   "source": [
    "import pandas as pd\n",
    "import numpy as np\n",
    "import matplotlib.pyplot as plt\n",
    "%matplotlib inline\n",
    "import seaborn as sns"
   ]
  },
  {
   "cell_type": "code",
   "execution_count": 115,
   "metadata": {},
   "outputs": [
    {
     "data": {
      "text/plain": [
       "Name         object\n",
       "Accuracy    float64\n",
       "dtype: object"
      ]
     },
     "execution_count": 115,
     "metadata": {},
     "output_type": "execute_result"
    }
   ],
   "source": [
    "MLA = pd.DataFrame({\n",
    "    \"Name\" : ['LogisticRegression','LinearSVC','MultinomialNB','RidgeClassifier','PassiveAggressiveClassifier','Ensemble'],\n",
    "    \"Accuracy\" : [82.90,82.27,80.74,82.23,79.65,82.55]\n",
    "})\n",
    "#MLA.head()\n",
    "#Name = ['LogisticRegression','LinearSVC','MultinomialNB','RidgeClassifier','PassiveAggressiveClassifier','Ensemble']\n",
    "#Accuracy = ['82.90','82.27','80.74','82.23','79.65','82.55']\n",
    "MLA.dtypes\n",
    "\n"
   ]
  },
  {
   "cell_type": "code",
   "execution_count": 126,
   "metadata": {},
   "outputs": [
    {
     "data": {
      "image/png": "[encoded data removed]",
      "text/plain": [
       "<Figure size 1080x432 with 1 Axes>"
      ]
     },
     "metadata": {},
     "output_type": "display_data"
    }
   ],
   "source": [
    "plt.subplots(figsize=(15,6))\n",
    "sns.barplot(x=\"Name\", y=\"Accuracy\",data=MLA,palette='coolwarm',edgecolor=sns.color_palette('dark',7))\n",
    "plt.xticks(rotation=0)\n",
    "plt.title('Algorithm Train Accuracy Comparison')\n",
    "plt.show()"
   ]
  },
  {
   "cell_type": "code",
   "execution_count": null,
   "metadata": {},
   "outputs": [],
   "source": []
  },
  {
   "cell_type": "code",
   "execution_count": null,
   "metadata": {},
   "outputs": [],
   "source": []
  }
 ],
 "metadata": {
  "kernelspec": {
   "display_name": "Python 3",
   "language": "python",
   "name": "python3"
  },
  "language_info": {
   "codemirror_mode": {
    "name": "ipython",
    "version": 3
   },
   "file_extension": ".py",
   "mimetype": "text/x-python",
   "name": "python",
   "nbconvert_exporter": "python",
   "pygments_lexer": "ipython3",
   "version": "3.6.5"
  }
 },
 "nbformat": 4,
 "nbformat_minor": 2
}
